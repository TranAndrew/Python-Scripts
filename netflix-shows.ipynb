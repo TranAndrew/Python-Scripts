{
 "cells": [
  {
   "cell_type": "markdown",
   "metadata": {
    "deletable": true,
    "editable": true
   },
   "source": [
    "# data.world\n",
    "## Netflix Shows"
   ]
  },
  {
   "cell_type": "markdown",
   "metadata": {},
   "source": [
    "> #### Setup  \n",
    "\n",
    "> Before running data.world notebooks for the first time, you'll need to:  \n",
    "1. Install data.world's Python package, including optional `pandas` dependencies: \n",
    "```shell\n",
    "pip install git+git://github.com/datadotworld/data.world-py.git#egg=project[pandas]\n",
    "```\n",
    "1. Obtain an API access token at https://data.world/settings/advanced\n",
    "1. Store API access token using the `dw` command-line tool: \n",
    "```shell\n",
    "dw configure\n",
    "```\n",
    "\n",
    "> Once your environment is set up, these steps do not need to be repeated for other data.world notebooks."
   ]
  },
  {
   "cell_type": "code",
   "execution_count": 31,
   "metadata": {
    "collapsed": true,
    "deletable": true,
    "editable": true
   },
   "outputs": [],
   "source": [
    "import datadotworld as dw\n",
    "import pandas as pd\n",
    "import numpy as np\n",
    "import tensorflow as tf"
   ]
  },
  {
   "cell_type": "code",
   "execution_count": 2,
   "metadata": {
    "collapsed": true,
    "deletable": true,
    "editable": true
   },
   "outputs": [],
   "source": [
    "# Datasets are referenced by their path\n",
    "dataset_key = 'chasewillden/netflix-shows'\n",
    "\n",
    "# Or simply by their URL\n",
    "dataset_key = 'https://data.world/chasewillden/netflix-shows'"
   ]
  },
  {
   "cell_type": "code",
   "execution_count": 5,
   "metadata": {
    "collapsed": false,
    "deletable": true,
    "editable": true
   },
   "outputs": [
    {
     "name": "stdout",
     "output_type": "stream",
     "text": [
      "LocalDataset('C:\\\\Users\\\\AndrewTran/.dw/cache\\\\chasewillden\\\\netflix-shows\\\\latest\\\\datapackage.json')\n"
     ]
    }
   ],
   "source": [
    "# Load dataset (onto the local file system)\n",
    "dataset_local = dw.load_dataset(dataset_key)  # cached under ~/.dw/cache\n"
   ]
  },
  {
   "cell_type": "markdown",
   "metadata": {
    "deletable": true,
    "editable": true
   },
   "source": [
    "# Next steps\n",
    "\n",
    "- Run `help()` to learn more ways to access and use your data. Try:\n",
    "  - `help(dw.load_dataset)`\n",
    "  - `help(dw.query)`\n",
    "- Learn more at: https://github.com/datadotworld/data.world-py and https://docs.data.world"
   ]
  },
  {
   "cell_type": "code",
   "execution_count": 4,
   "metadata": {
    "collapsed": false,
    "deletable": true,
    "editable": true
   },
   "outputs": [
    {
     "data": {
      "text/plain": [
       "{'description': 'The purpose of this dataset is to understand the rating distributions of Netflix shows.\\n\\n# Background\\nNetflix in the past 5-10 years has captured a large populate of viewers. With more viewers, there most likely an increase of show variety. However, do people understand the distribution of ratings on Netflix shows? \\n\\n# Netflix Suggestion Engine\\nBecause of the vast amount of time it would take to gather 1,000 shows one by one, the gathering method took advantage of the Netflixâ€™s suggestion engine. The suggestion engine recommends shows similar to the selected show. As part of this data set, I took 4 videos from 4 ratings (totaling 16 unique shows), then pulled 53 suggested shows per video. The ratings include: G, PG, TV-14, TV-MA. I chose not to pull from every rating (e.g. TV-G, TV-Y, etc.).\\n\\n## Source\\nAccess to the study can be found at [The Concept Center](http://theconceptcenter.com/simple-research-study-netflix-shows-analysis/)',\n",
       " 'homepage': 'https://data.world/chasewillden/netflix-shows',\n",
       " 'keywords': ['technology'],\n",
       " 'license': 'Public Domain',\n",
       " 'name': 'chasewillden_netflix-shows',\n",
       " 'resources': [{'format': 'csv',\n",
       "   'name': 'by_rating',\n",
       "   'path': 'data/by_rating.csv'},\n",
       "  {'format': 'csv',\n",
       "   'name': 'by_show_by_rating',\n",
       "   'path': 'data/by_show_by_rating.csv'},\n",
       "  {'format': 'csv',\n",
       "   'name': 'by_show_by_rating_value',\n",
       "   'path': 'data/by_show_by_rating_value.csv'},\n",
       "  {'format': 'csv',\n",
       "   'name': 'by_show_by_single_rating',\n",
       "   'path': 'data/by_show_by_single_rating.csv'},\n",
       "  {'format': 'csv', 'name': 'by_year', 'path': 'data/by_year.csv'},\n",
       "  {'format': 'csv', 'name': 'netflix', 'path': 'data/netflix.csv'},\n",
       "  {'bytes': 117267,\n",
       "   'description': 'Because of the vast amount of time it would take to gather 1,000 shows one by one, the gathering method took advantage of the Netflixâ€™s suggestion engine. The suggestion engine recommends shows similar to the selected show. As part of this',\n",
       "   'format': 'xlsx',\n",
       "   'keywords': ['raw data', 'clean data'],\n",
       "   'mediatype': 'application/vnd.openxmlformats-officedocument.spreadsheetml.sheet',\n",
       "   'name': 'original/netflix.xlsx',\n",
       "   'path': 'original/netflix.xlsx'}],\n",
       " 'title': 'Netflix Shows'}"
      ]
     },
     "execution_count": 4,
     "metadata": {},
     "output_type": "execute_result"
    }
   ],
   "source": [
    "# See what is in it\n",
    "dataset_local.describe()"
   ]
  },
  {
   "cell_type": "code",
   "execution_count": 12,
   "metadata": {
    "collapsed": false
   },
   "outputs": [
    {
     "name": "stdout",
     "output_type": "stream",
     "text": [
      "Help on function load_dataset in module datadotworld:\n",
      "\n",
      "load_dataset(dataset_key, force_update=False, profile='default')\n",
      "    Load a dataset from the local filesystem, downloading it from data.world\n",
      "    first, if necessary.\n",
      "    \n",
      "    This function returns an object of type `LocalDataset`. The object\n",
      "    allows access to metedata via it's `describe()` method and to all the data\n",
      "    via three properties `raw_data`, `tables` and `dataframes`, all of which\n",
      "    are mappings (dict-like structures).\n",
      "    \n",
      "    \n",
      "    Parameters\n",
      "    ----------\n",
      "    dataset_key : str\n",
      "        Dataset identifier, in the form of owner/id or of a url\n",
      "    force_update : bool\n",
      "        Flag, indicating if a new copy of the dataset should be downloaded\n",
      "        replacing any previously downloaded copy\n",
      "    profile : str, optional\n",
      "        Configuration profile (account) to use.\n",
      "    \n",
      "    Returns\n",
      "    -------\n",
      "    LocalDataset\n",
      "        The object representing the dataset\n",
      "    \n",
      "    Raises\n",
      "    ------\n",
      "    RestApiError\n",
      "        If a server error occurs\n",
      "    \n",
      "    Examples\n",
      "    --------\n",
      "    >>> import datadotworld as dw\n",
      "    >>> dataset = dw.load_dataset('jonloyens/an-intro-to-dataworld-dataset')\n",
      "    >>> list(dataset.dataframes)\n",
      "    ['changelog', 'datadotworldbballstats', 'datadotworldbballteam']\n",
      "\n",
      "Help on function query in module datadotworld:\n",
      "\n",
      "query(dataset_key, query, query_type='sql', profile='default', parameters=None)\n",
      "    Query an existing dataset\n",
      "    \n",
      "    Parameters\n",
      "    ----------\n",
      "    dataset_key : str\n",
      "        Dataset identifier, in the form of owner/id or of a url\n",
      "    query : str\n",
      "        SQL or SPARQL query\n",
      "    query_type : {'sql', 'sparql'}, optional\n",
      "        The type of the query. Must be either 'sql' or 'sparql'.\n",
      "    parameters: query parameters, optional\n",
      "        parameters to the query - if SPARQL query, this should be a dict\n",
      "        containing named parameters, if SQL query, then this should be a\n",
      "        list containing positional parameters.  Boolean values will be\n",
      "        converted to xsd:boolean, Integer values to xsd:integer, and other\n",
      "        Numeric values to xsd:decimal. anything else is treated as a String\n",
      "        literal\n",
      "    profile : str, optional\n",
      "        Configuration profile (account) to use.\n",
      "    \n",
      "    Returns\n",
      "    -------\n",
      "    Results\n",
      "        Object containing the results of the query\n",
      "    \n",
      "    Raises\n",
      "    ------\n",
      "    RuntimeError\n",
      "        If a server error occurs\n",
      "    \n",
      "    Examples\n",
      "    --------\n",
      "    >>> import datadotworld as dw\n",
      "    >>> results = dw.query(\n",
      "    ...     'jonloyens/an-intro-to-dataworld-dataset',\n",
      "    ...     'SELECT * FROM `DataDotWorldBBallStats`, `DataDotWorldBBallTeam` '\n",
      "    ...     'WHERE DataDotWorldBBallTeam.Name = DataDotWorldBBallStats.Name')\n",
      "    >>> df = results.dataframe\n",
      "    >>> df.shape\n",
      "    (8, 6)\n",
      "\n"
     ]
    }
   ],
   "source": [
    "help(dw.load_dataset)\n",
    "help(dw.query)"
   ]
  },
  {
   "cell_type": "code",
   "execution_count": 8,
   "metadata": {
    "collapsed": false
   },
   "outputs": [
    {
     "data": {
      "text/plain": [
       "['by_show_by_rating_value',\n",
       " 'by_year',\n",
       " 'by_show_by_single_rating',\n",
       " 'by_show_by_rating',\n",
       " 'by_rating',\n",
       " 'netflix']"
      ]
     },
     "execution_count": 8,
     "metadata": {},
     "output_type": "execute_result"
    }
   ],
   "source": [
    "list(dataset_local.dataframes)"
   ]
  },
  {
   "cell_type": "code",
   "execution_count": 34,
   "metadata": {
    "collapsed": false
   },
   "outputs": [
    {
     "data": {
      "text/plain": [
       "pandas.core.index.Index"
      ]
     },
     "execution_count": 34,
     "metadata": {},
     "output_type": "execute_result"
    }
   ],
   "source": [
    "# test run from help(dw.query)\n",
    "results = dw.query(\n",
    "        dataset_key,\n",
    "        'SELECT * FROM netflix')\n",
    "df = results.dataframe\n",
    "df.shape\n",
    "df.columns\n",
    "type(df.columns)"
   ]
  },
  {
   "cell_type": "code",
   "execution_count": 35,
   "metadata": {
    "collapsed": false
   },
   "outputs": [
    {
     "name": "stdout",
     "output_type": "stream",
     "text": [
      "<class 'pandas.core.frame.DataFrame'>\n",
      "Int64Index: 1000 entries, 0 to 999\n",
      "Data columns (total 7 columns):\n",
      "rating               1000 non-null object\n",
      "ratingdescription    1000 non-null int64\n",
      "ratinglevel          941 non-null object\n",
      "release_year         1000 non-null int64\n",
      "title                1000 non-null object\n",
      "user_rating_score    605 non-null float64\n",
      "user_rating_size     1000 non-null int64\n",
      "dtypes: float64(1), int64(3), object(3)\n",
      "memory usage: 62.5+ KB\n"
     ]
    }
   ],
   "source": [
    "df.tail()\n",
    "df.info()"
   ]
  },
  {
   "cell_type": "code",
   "execution_count": null,
   "metadata": {
    "collapsed": false,
    "scrolled": true
   },
   "outputs": [],
   "source": []
  },
  {
   "cell_type": "code",
   "execution_count": null,
   "metadata": {
    "collapsed": true
   },
   "outputs": [],
   "source": []
  }
 ],
 "metadata": {
  "kernelspec": {
   "display_name": "Python 3",
   "language": "python",
   "name": "python3"
  },
  "language_info": {
   "codemirror_mode": {
    "name": "ipython",
    "version": 3
   },
   "file_extension": ".py",
   "mimetype": "text/x-python",
   "name": "python",
   "nbconvert_exporter": "python",
   "pygments_lexer": "ipython3",
   "version": "3.5.3"
  }
 },
 "nbformat": 4,
 "nbformat_minor": 2
}
