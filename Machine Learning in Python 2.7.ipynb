{
 "cells": [
  {
   "cell_type": "markdown",
   "metadata": {
    "collapsed": true
   },
   "source": [
    "Machine Learning in Python "
   ]
  },
  {
   "cell_type": "code",
   "execution_count": 28,
   "metadata": {
    "collapsed": false
   },
   "outputs": [
    {
     "name": "stdout",
     "output_type": "stream",
     "text": [
      "Number of Rows in Data = 208\n",
      "Number of Columns in Data = 61"
     ]
    }
   ],
   "source": [
    "#Listing 2-1 \"Sizing up new data\"\n",
    "\n",
    "author = 'mike_bowles'\n",
    "\n",
    "import urllib2\n",
    "import sys\n",
    "\n",
    "targetURL = \"https://archive.ics.uci.edu/ml/machine-learning-databases/undocumented/connectionist-bench/sonar/sonar.all-data\"\n",
    "data = urllib2.urlopen(targetURL)\n",
    "xList = []\n",
    "labels = []\n",
    "\n",
    "for line in data :\n",
    "    row = line.strip().split(\",\")\n",
    "    xList.append(row)\n",
    "    \n",
    "sys.stdout.write(\"Number of Rows in Data = \" + str(len(xList)) + '\\n')\n",
    "sys.stdout.write(\"Number of Columns in Data = \"+ str(len(xList[1])))"
   ]
  },
  {
   "cell_type": "code",
   "execution_count": 30,
   "metadata": {
    "collapsed": false,
    "scrolled": true
   },
   "outputs": [
    {
     "name": "stdout",
     "output_type": "stream",
     "text": [
      "Col#\tNumber\tStrings\tOther\n",
      "0\t208\t0\t0\n",
      "1\t208\t0\t0\n",
      "2\t208\t0\t0\n",
      "3\t208\t0\t0\n",
      "4\t208\t0\t0\n",
      "5\t208\t0\t0\n",
      "6\t208\t0\t0\n",
      "7\t208\t0\t0\n",
      "8\t208\t0\t0\n",
      "9\t208\t0\t0\n",
      "10\t208\t0\t0\n",
      "11\t208\t0\t0\n",
      "12\t208\t0\t0\n",
      "13\t208\t0\t0\n",
      "14\t208\t0\t0\n",
      "15\t208\t0\t0\n",
      "16\t208\t0\t0\n",
      "17\t208\t0\t0\n",
      "18\t208\t0\t0\n",
      "19\t208\t0\t0\n",
      "20\t208\t0\t0\n",
      "21\t208\t0\t0\n",
      "22\t208\t0\t0\n",
      "23\t208\t0\t0\n",
      "24\t208\t0\t0\n",
      "25\t208\t0\t0\n",
      "26\t208\t0\t0\n",
      "27\t208\t0\t0\n",
      "28\t208\t0\t0\n",
      "29\t208\t0\t0\n",
      "30\t208\t0\t0\n",
      "31\t208\t0\t0\n",
      "32\t208\t0\t0\n",
      "33\t208\t0\t0\n",
      "34\t208\t0\t0\n",
      "35\t208\t0\t0\n",
      "36\t208\t0\t0\n",
      "37\t208\t0\t0\n",
      "38\t208\t0\t0\n",
      "39\t208\t0\t0\n",
      "40\t208\t0\t0\n",
      "41\t208\t0\t0\n",
      "42\t208\t0\t0\n",
      "43\t208\t0\t0\n",
      "44\t208\t0\t0\n",
      "45\t208\t0\t0\n",
      "46\t208\t0\t0\n",
      "47\t208\t0\t0\n",
      "48\t208\t0\t0\n",
      "49\t208\t0\t0\n",
      "50\t208\t0\t0\n",
      "51\t208\t0\t0\n",
      "52\t208\t0\t0\n",
      "53\t208\t0\t0\n",
      "54\t208\t0\t0\n",
      "55\t208\t0\t0\n",
      "56\t208\t0\t0\n",
      "57\t208\t0\t0\n",
      "58\t208\t0\t0\n",
      "59\t208\t0\t0\n",
      "60\t0\t208\t0\n"
     ]
    }
   ],
   "source": [
    "# Listing 2-2 \"Determiningthe nature of attributes\"\n",
    "\n",
    "import urllib2\n",
    "import sys\n",
    "\n",
    "targetURL = \"https://archive.ics.uci.edu/ml/machine-learning-databases/undocumented/connectionist-bench/sonar/sonar.all-data\"\n",
    "data = urllib2.urlopen(targetURL)\n",
    "xList = []\n",
    "labels = []\n",
    "\n",
    "for line in data :\n",
    "    row = line.strip().split(\",\")\n",
    "    xList.append(row)\n",
    "    \n",
    "nRows = len(xList)\n",
    "nCols = len(xList[1])\n",
    "\n",
    "type = [0]*3\n",
    "colCounts = []\n",
    "\n",
    "# this makes me feel diriy, we need matrix math \n",
    "\n",
    "for col in range(nCols):\n",
    "    for row in xList:\n",
    "        try:\n",
    "            a = float(row[col])\n",
    "            if isinstance(a,float):\n",
    "                type[0] += 1\n",
    "        except ValueError:\n",
    "            if len(row[col]) > 0:\n",
    "                type[1] += 1\n",
    "            else:\n",
    "                type[2] += 1\n",
    "    colCounts.append(type)\n",
    "    type = [0]*3 # make sure this is done correctly\n",
    "    \n",
    "sys.stdout.write(\"Col#\" + '\\t' + 'Number' + '\\t' +\n",
    "                \"Strings\" + '\\t' + \"Other\\n\")\n",
    "iCol = 0\n",
    "\n",
    "for types in colCounts:\n",
    "    sys.stdout.write(str(iCol) + '\\t' + str(types[0]) + '\\t' + \n",
    "                    str(types[1]) + '\\t' + str(types[2]) + '\\n')\n",
    "    iCol += 1"
   ]
  },
  {
   "cell_type": "code",
   "execution_count": 23,
   "metadata": {
    "collapsed": false
   },
   "outputs": [
    {
     "data": {
      "text/plain": [
       "61"
      ]
     },
     "execution_count": 23,
     "metadata": {},
     "output_type": "execute_result"
    }
   ],
   "source": [
    "#listing 2-3 Statistics for Numerical and Categorical Attributes "
   ]
  },
  {
   "cell_type": "code",
   "execution_count": 27,
   "metadata": {
    "collapsed": false
   },
   "outputs": [
    {
     "name": "stdout",
     "output_type": "stream",
     "text": [
      "Col#\tNumber\tStrings\t Other\n",
      "0\t208\t0\t0\n",
      "1\t208\t0\t0\n",
      "2\t208\t0\t0\n",
      "3\t208\t0\t0\n",
      "4\t208\t0\t0\n",
      "5\t208\t0\t0\n",
      "6\t208\t0\t0\n",
      "7\t208\t0\t0\n",
      "8\t208\t0\t0\n",
      "9\t208\t0\t0\n",
      "10\t208\t0\t0\n",
      "11\t208\t0\t0\n",
      "12\t208\t0\t0\n",
      "13\t208\t0\t0\n",
      "14\t208\t0\t0\n",
      "15\t208\t0\t0\n",
      "16\t208\t0\t0\n",
      "17\t208\t0\t0\n",
      "18\t208\t0\t0\n",
      "19\t208\t0\t0\n",
      "20\t208\t0\t0\n",
      "21\t208\t0\t0\n",
      "22\t208\t0\t0\n",
      "23\t208\t0\t0\n",
      "24\t208\t0\t0\n",
      "25\t208\t0\t0\n",
      "26\t208\t0\t0\n",
      "27\t208\t0\t0\n",
      "28\t208\t0\t0\n",
      "29\t208\t0\t0\n",
      "30\t208\t0\t0\n",
      "31\t208\t0\t0\n",
      "32\t208\t0\t0\n",
      "33\t208\t0\t0\n",
      "34\t208\t0\t0\n",
      "35\t208\t0\t0\n",
      "36\t208\t0\t0\n",
      "37\t208\t0\t0\n",
      "38\t208\t0\t0\n",
      "39\t208\t0\t0\n",
      "40\t208\t0\t0\n",
      "41\t208\t0\t0\n",
      "42\t208\t0\t0\n",
      "43\t208\t0\t0\n",
      "44\t208\t0\t0\n",
      "45\t208\t0\t0\n",
      "46\t208\t0\t0\n",
      "47\t208\t0\t0\n",
      "48\t208\t0\t0\n",
      "49\t208\t0\t0\n",
      "50\t208\t0\t0\n",
      "51\t208\t0\t0\n",
      "52\t208\t0\t0\n",
      "53\t208\t0\t0\n",
      "54\t208\t0\t0\n",
      "55\t208\t0\t0\n",
      "56\t208\t0\t0\n",
      "57\t208\t0\t0\n",
      "58\t208\t0\t0\n",
      "59\t208\t0\t0\n",
      "60\t0\t208\t0\n"
     ]
    }
   ],
   "source": []
  },
  {
   "cell_type": "code",
   "execution_count": null,
   "metadata": {
    "collapsed": true
   },
   "outputs": [],
   "source": []
  }
 ],
 "metadata": {
  "kernelspec": {
   "display_name": "Python 2",
   "language": "python",
   "name": "python2"
  },
  "language_info": {
   "codemirror_mode": {
    "name": "ipython",
    "version": 2
   },
   "file_extension": ".py",
   "mimetype": "text/x-python",
   "name": "python",
   "nbconvert_exporter": "python",
   "pygments_lexer": "ipython2",
   "version": "2.7.13"
  }
 },
 "nbformat": 4,
 "nbformat_minor": 1
}
