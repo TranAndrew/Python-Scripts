{
 "cells": [
  {
   "cell_type": "markdown",
   "metadata": {
    "deletable": true,
    "editable": true
   },
   "source": [
    "# data.world\n",
    "## Netflix Shows"
   ]
  },
  {
   "cell_type": "code",
   "execution_count": null,
   "metadata": {
    "collapsed": true
   },
   "outputs": [],
   "source": []
  },
  {
   "cell_type": "markdown",
   "metadata": {},
   "source": [
    "> #### Setup  \n",
    "\n",
    "> Before running data.world notebooks for the first time, you'll need to:  \n",
    "1. Install data.world's Python package, including optional `pandas` dependencies: \n",
    "```shell\n",
    "pip install git+git://github.com/datadotworld/data.world-py.git#egg=project[pandas]\n",
    "```\n",
    "1. Obtain an API access token at https://data.world/settings/advanced\n",
    "1. Store API access token using the `dw` command-line tool: \n",
    "```shell\n",
    "dw configure\n",
    "```\n",
    "\n",
    "> Once your environment is set up, these steps do not need to be repeated for other data.world notebooks."
   ]
  },
  {
   "cell_type": "code",
   "execution_count": 1,
   "metadata": {
    "collapsed": true,
    "deletable": true,
    "editable": true
   },
   "outputs": [],
   "source": [
    "import datadotworld as dw"
   ]
  },
  {
   "cell_type": "code",
   "execution_count": 2,
   "metadata": {
    "collapsed": true,
    "deletable": true,
    "editable": true
   },
   "outputs": [],
   "source": [
    "# Datasets are referenced by their path\n",
    "dataset_key = 'chasewillden/netflix-shows'\n",
    "\n",
    "# Or simply by their URL\n",
    "dataset_key = 'https://data.world/chasewillden/netflix-shows'"
   ]
  },
  {
   "cell_type": "code",
   "execution_count": 5,
   "metadata": {
    "collapsed": false,
    "deletable": true,
    "editable": true
   },
   "outputs": [
    {
     "name": "stdout",
     "output_type": "stream",
     "text": [
      "LocalDataset('C:\\\\Users\\\\AndrewTran/.dw/cache\\\\chasewillden\\\\netflix-shows\\\\latest\\\\datapackage.json')\n"
     ]
    }
   ],
   "source": [
    "# Load dataset (onto the local file system)\n",
    "dataset_local = dw.load_dataset(dataset_key)  # cached under ~/.dw/cache\n"
   ]
  },
  {
   "cell_type": "markdown",
   "metadata": {
    "deletable": true,
    "editable": true
   },
   "source": [
    "# Next steps\n",
    "\n",
    "- Run `help()` to learn more ways to access and use your data. Try:\n",
    "  - `help(dw.load_dataset)`\n",
    "  - `help(dw.query)`\n",
    "- Learn more at: https://github.com/datadotworld/data.world-py and https://docs.data.world"
   ]
  },
  {
   "cell_type": "code",
   "execution_count": 4,
   "metadata": {
    "collapsed": false,
    "deletable": true,
    "editable": true
   },
   "outputs": [
    {
     "data": {
      "text/plain": [
       "{'description': 'The purpose of this dataset is to understand the rating distributions of Netflix shows.\\n\\n# Background\\nNetflix in the past 5-10 years has captured a large populate of viewers. With more viewers, there most likely an increase of show variety. However, do people understand the distribution of ratings on Netflix shows? \\n\\n# Netflix Suggestion Engine\\nBecause of the vast amount of time it would take to gather 1,000 shows one by one, the gathering method took advantage of the Netflixâ€™s suggestion engine. The suggestion engine recommends shows similar to the selected show. As part of this data set, I took 4 videos from 4 ratings (totaling 16 unique shows), then pulled 53 suggested shows per video. The ratings include: G, PG, TV-14, TV-MA. I chose not to pull from every rating (e.g. TV-G, TV-Y, etc.).\\n\\n## Source\\nAccess to the study can be found at [The Concept Center](http://theconceptcenter.com/simple-research-study-netflix-shows-analysis/)',\n",
       " 'homepage': 'https://data.world/chasewillden/netflix-shows',\n",
       " 'keywords': ['technology'],\n",
       " 'license': 'Public Domain',\n",
       " 'name': 'chasewillden_netflix-shows',\n",
       " 'resources': [{'format': 'csv',\n",
       "   'name': 'by_rating',\n",
       "   'path': 'data/by_rating.csv'},\n",
       "  {'format': 'csv',\n",
       "   'name': 'by_show_by_rating',\n",
       "   'path': 'data/by_show_by_rating.csv'},\n",
       "  {'format': 'csv',\n",
       "   'name': 'by_show_by_rating_value',\n",
       "   'path': 'data/by_show_by_rating_value.csv'},\n",
       "  {'format': 'csv',\n",
       "   'name': 'by_show_by_single_rating',\n",
       "   'path': 'data/by_show_by_single_rating.csv'},\n",
       "  {'format': 'csv', 'name': 'by_year', 'path': 'data/by_year.csv'},\n",
       "  {'format': 'csv', 'name': 'netflix', 'path': 'data/netflix.csv'},\n",
       "  {'bytes': 117267,\n",
       "   'description': 'Because of the vast amount of time it would take to gather 1,000 shows one by one, the gathering method took advantage of the Netflixâ€™s suggestion engine. The suggestion engine recommends shows similar to the selected show. As part of this',\n",
       "   'format': 'xlsx',\n",
       "   'keywords': ['raw data', 'clean data'],\n",
       "   'mediatype': 'application/vnd.openxmlformats-officedocument.spreadsheetml.sheet',\n",
       "   'name': 'original/netflix.xlsx',\n",
       "   'path': 'original/netflix.xlsx'}],\n",
       " 'title': 'Netflix Shows'}"
      ]
     },
     "execution_count": 4,
     "metadata": {},
     "output_type": "execute_result"
    }
   ],
   "source": [
    "# See what is in it\n",
    "dataset_local.describe()"
   ]
  }
 ],
 "metadata": {
  "kernelspec": {
   "display_name": "Python 3",
   "language": "python",
   "name": "python3"
  },
  "language_info": {
   "codemirror_mode": {
    "name": "ipython",
    "version": 3
   },
   "file_extension": ".py",
   "mimetype": "text/x-python",
   "name": "python",
   "nbconvert_exporter": "python",
   "pygments_lexer": "ipython3",
   "version": "3.5.3"
  }
 },
 "nbformat": 4,
 "nbformat_minor": 2
}
