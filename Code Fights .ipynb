{
 "cells": [
  {
   "cell_type": "code",
   "execution_count": 17,
   "metadata": {
    "collapsed": false,
    "scrolled": false
   },
   "outputs": [],
   "source": [
    "import math as math\n",
    "import numpy as np\n",
    "import array as array\n",
    "\n",
    "def isSpecialPalindrome(n):\n",
    "    numOfBits = math.ceil(math.log2(n))\n",
    "    if n**(1/numOfBits) == 2:\n",
    "        numOfBits = numOfBits + 1\n",
    "    binaryOutput = np.array(range(numOfBits))\n",
    "\n",
    "    for i in range(numOfBits):\n",
    "        temp = n % 2\n",
    "        binaryOutput[i] = temp \n",
    "        n = math.floor(n/2)\n",
    "        \n",
    "    output = all(binaryOutput[::-1] == binaryOutput)\n",
    "    return output\n",
    "\n",
    "\n"
   ]
  },
  {
   "cell_type": "code",
   "execution_count": 18,
   "metadata": {
    "collapsed": false
   },
   "outputs": [
    {
     "data": {
      "text/plain": [
       "True"
      ]
     },
     "execution_count": 18,
     "metadata": {},
     "output_type": "execute_result"
    }
   ],
   "source": [
    "isSpecialPalindrome(5)\n"
   ]
  },
  {
   "cell_type": "code",
   "execution_count": 19,
   "metadata": {
    "collapsed": false
   },
   "outputs": [
    {
     "data": {
      "text/plain": [
       "True"
      ]
     },
     "execution_count": 19,
     "metadata": {},
     "output_type": "execute_result"
    }
   ],
   "source": [
    "#shortest solution using functional programming\n",
    "isSpecialPalindrome = lambda n: n/2 < (~n&-~n)**2 < n\n",
    "isSpecialPalindrome(5)"
   ]
  },
  {
   "cell_type": "code",
   "execution_count": 20,
   "metadata": {
    "collapsed": false
   },
   "outputs": [
    {
     "data": {
      "text/plain": [
       "3"
      ]
     },
     "execution_count": 20,
     "metadata": {},
     "output_type": "execute_result"
    }
   ],
   "source": [
    "a = [2,3,2,3,1,5,2]\n",
    "\n",
    "def firstDuplicate(a):\n",
    "    for i in range(1,len(a),1):\n",
    "        a[i] == a[0::] \n",
    "        return(a[i])\n",
    "    return(-1)\n",
    "            \n",
    "    \n",
    "firstDuplicate(a)\n",
    " "
   ]
  },
  {
   "cell_type": "code",
   "execution_count": 52,
   "metadata": {
    "collapsed": false
   },
   "outputs": [
    {
     "name": "stdout",
     "output_type": "stream",
     "text": [
      "6\n",
      "6\n",
      "6\n",
      "3\n",
      "5\n",
      "10\n"
     ]
    },
    {
     "data": {
      "text/plain": [
       "7"
      ]
     },
     "execution_count": 52,
     "metadata": {},
     "output_type": "execute_result"
    }
   ],
   "source": [
    "a = [2,3,2,3,1,5,2]\n",
    "allValues = []\n",
    "for i in range(1,len(a),1):\n",
    "    x = a[i]*a[i-1]\n",
    "    allValues.append(x)\n",
    "    print(x)\n",
    "    \n",
    "max(allValues)\n",
    "len(a)"
   ]
  },
  {
   "cell_type": "code",
   "execution_count": 50,
   "metadata": {
    "collapsed": false
   },
   "outputs": [
    {
     "name": "stdout",
     "output_type": "stream",
     "text": [
      "25\n",
      "[3 4]\n"
     ]
    }
   ],
   "source": [
    "n = 4\n",
    "output = []\n",
    "first = (n-1\n",
    "\n",
    "x=range(1,n)\n",
    "\n",
    "x = np.array(range(n-1,n+1))\n",
    "print(sum(x**2))\n",
    "print(x)\n"
   ]
  },
  {
   "cell_type": "code",
   "execution_count": 122,
   "metadata": {
    "collapsed": false
   },
   "outputs": [
    {
     "name": "stdout",
     "output_type": "stream",
     "text": [
      "2\n"
     ]
    }
   ],
   "source": [
    "statues = [3,2,6]\n",
    "x = list(sorted(statues))\n",
    "#print(x)\n",
    "allValues = (range(min(x),max(x)))\n",
    "count = 0\n",
    "for i in range(0,len(allValues)):\n",
    "    if allValues[i] == x[count]:\n",
    "        count = count + 1\n",
    "print(len(allValues) - count)\n"
   ]
  },
  {
   "cell_type": "code",
   "execution_count": 126,
   "metadata": {
    "collapsed": false
   },
   "outputs": [
    {
     "data": {
      "text/plain": [
       "2"
      ]
     },
     "execution_count": 126,
     "metadata": {},
     "output_type": "execute_result"
    }
   ],
   "source": [
    "max(statues) - min(statues) - len(statues) + 1\n"
   ]
  },
  {
   "cell_type": "code",
   "execution_count": null,
   "metadata": {
    "collapsed": true
   },
   "outputs": [],
   "source": []
  },
  {
   "cell_type": "code",
   "execution_count": null,
   "metadata": {
    "collapsed": true
   },
   "outputs": [],
   "source": []
  },
  {
   "cell_type": "code",
   "execution_count": null,
   "metadata": {
    "collapsed": true
   },
   "outputs": [],
   "source": []
  },
  {
   "cell_type": "code",
   "execution_count": null,
   "metadata": {
    "collapsed": true
   },
   "outputs": [],
   "source": []
  }
 ],
 "metadata": {
  "kernelspec": {
   "display_name": "Python 3",
   "language": "python",
   "name": "python3"
  },
  "language_info": {
   "codemirror_mode": {
    "name": "ipython",
    "version": 3
   },
   "file_extension": ".py",
   "mimetype": "text/x-python",
   "name": "python",
   "nbconvert_exporter": "python",
   "pygments_lexer": "ipython3",
   "version": "3.5.3"
  }
 },
 "nbformat": 4,
 "nbformat_minor": 1
}
